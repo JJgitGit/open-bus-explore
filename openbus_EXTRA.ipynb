{
 "cells": [
  {
   "cell_type": "code",
   "execution_count": 1,
   "metadata": {},
   "outputs": [],
   "source": [
    "import pandas as pd\n",
    "import numpy as np\n",
    "import matplotlib.pyplot as plt\n",
    "import seaborn as sns\n",
    "import datetime\n",
    "import zipfile\n",
    "\n",
    "%matplotlib inline\n",
    "\n",
    "sns.set(style=\"white\", rc={\"axes.facecolor\": (0, 0, 0, 0)})\n",
    "sns.set_context(\"talk\")\n",
    "sns.set_palette('Set2', 10)"
   ]
  },
  {
   "cell_type": "code",
   "execution_count": 4,
   "metadata": {
    "scrolled": false
   },
   "outputs": [
    {
     "data": {
      "text/html": [
       "<div>\n",
       "<style scoped>\n",
       "    .dataframe tbody tr th:only-of-type {\n",
       "        vertical-align: middle;\n",
       "    }\n",
       "\n",
       "    .dataframe tbody tr th {\n",
       "        vertical-align: top;\n",
       "    }\n",
       "\n",
       "    .dataframe thead th {\n",
       "        text-align: right;\n",
       "    }\n",
       "</style>\n",
       "<table border=\"1\" class=\"dataframe\">\n",
       "  <thead>\n",
       "    <tr style=\"text-align: right;\">\n",
       "      <th></th>\n",
       "      <th>stop_id</th>\n",
       "      <th>stop_code</th>\n",
       "      <th>stop_name</th>\n",
       "      <th>stop_desc</th>\n",
       "      <th>stop_lat</th>\n",
       "      <th>stop_lon</th>\n",
       "      <th>location_type</th>\n",
       "      <th>parent_station</th>\n",
       "      <th>zone_id</th>\n",
       "    </tr>\n",
       "  </thead>\n",
       "  <tbody>\n",
       "    <tr>\n",
       "      <th>3158</th>\n",
       "      <td>3871</td>\n",
       "      <td>43009</td>\n",
       "      <td>מרכזית המפרץ/רציפים בינעירוני</td>\n",
       "      <td>רחוב:  עיר: חיפה רציף:   קומה:</td>\n",
       "      <td>32.792893</td>\n",
       "      <td>35.034346</td>\n",
       "      <td>1</td>\n",
       "      <td>NaN</td>\n",
       "      <td>310.0</td>\n",
       "    </tr>\n",
       "    <tr>\n",
       "      <th>4127</th>\n",
       "      <td>4967</td>\n",
       "      <td>55637</td>\n",
       "      <td>תחנה מרכזית עפולה/רציפים</td>\n",
       "      <td>רחוב:  עיר: עפולה רציף:   קומה:</td>\n",
       "      <td>32.607821</td>\n",
       "      <td>35.292233</td>\n",
       "      <td>1</td>\n",
       "      <td>NaN</td>\n",
       "      <td>601.0</td>\n",
       "    </tr>\n",
       "    <tr>\n",
       "      <th>8451</th>\n",
       "      <td>10758</td>\n",
       "      <td>4170</td>\n",
       "      <td>תחנה מרכזית ירושלים קומה 3/רציפים</td>\n",
       "      <td>רחוב:  עיר: ירושלים רציף:   קומה:</td>\n",
       "      <td>31.789467</td>\n",
       "      <td>35.203715</td>\n",
       "      <td>1</td>\n",
       "      <td>NaN</td>\n",
       "      <td>110.0</td>\n",
       "    </tr>\n",
       "    <tr>\n",
       "      <th>9938</th>\n",
       "      <td>12961</td>\n",
       "      <td>21256</td>\n",
       "      <td>תחנה מרכזית תל אביב קומה 6/רציפים</td>\n",
       "      <td>רחוב:תמח''ת קומה 6  עיר: תל אביב יפו רציף:   ...</td>\n",
       "      <td>32.055818</td>\n",
       "      <td>34.779427</td>\n",
       "      <td>1</td>\n",
       "      <td>NaN</td>\n",
       "      <td>210.0</td>\n",
       "    </tr>\n",
       "    <tr>\n",
       "      <th>11393</th>\n",
       "      <td>14679</td>\n",
       "      <td>30136</td>\n",
       "      <td>תחנה מרכזית נתניה/רציפים</td>\n",
       "      <td>רחוב:פינסקר  עיר: נתניה רציף:   קומה:</td>\n",
       "      <td>32.326889</td>\n",
       "      <td>34.858740</td>\n",
       "      <td>1</td>\n",
       "      <td>NaN</td>\n",
       "      <td>231.0</td>\n",
       "    </tr>\n",
       "    <tr>\n",
       "      <th>11871</th>\n",
       "      <td>15437</td>\n",
       "      <td>31100</td>\n",
       "      <td>תחנה מרכזית רחובות/רציפים</td>\n",
       "      <td>רחוב:קניון עופר רחובות  עיר: רחובות רציף:   ק...</td>\n",
       "      <td>31.893459</td>\n",
       "      <td>34.807735</td>\n",
       "      <td>1</td>\n",
       "      <td>NaN</td>\n",
       "      <td>223.0</td>\n",
       "    </tr>\n",
       "    <tr>\n",
       "      <th>13657</th>\n",
       "      <td>17592</td>\n",
       "      <td>50093</td>\n",
       "      <td>תחנה מרכזית נהריה/רציפים</td>\n",
       "      <td>רחוב:יאנוש קורצ'אק  עיר: נהריה רציף:   קומה:</td>\n",
       "      <td>33.005504</td>\n",
       "      <td>35.097344</td>\n",
       "      <td>1</td>\n",
       "      <td>NaN</td>\n",
       "      <td>331.0</td>\n",
       "    </tr>\n",
       "    <tr>\n",
       "      <th>16804</th>\n",
       "      <td>21658</td>\n",
       "      <td>33512</td>\n",
       "      <td>תחנה מרכזית ראשון לציון</td>\n",
       "      <td>רחוב:  עיר: ראשון לציון רציף:   קומה:</td>\n",
       "      <td>31.967759</td>\n",
       "      <td>34.785612</td>\n",
       "      <td>1</td>\n",
       "      <td>NaN</td>\n",
       "      <td>210.0</td>\n",
       "    </tr>\n",
       "    <tr>\n",
       "      <th>20226</th>\n",
       "      <td>26652</td>\n",
       "      <td>13907</td>\n",
       "      <td>תחנה מרכזית באר שבע/רציפים</td>\n",
       "      <td>רחוב:  עיר: באר שבע רציף:   קומה:</td>\n",
       "      <td>31.243017</td>\n",
       "      <td>34.796743</td>\n",
       "      <td>1</td>\n",
       "      <td>NaN</td>\n",
       "      <td>410.0</td>\n",
       "    </tr>\n",
       "    <tr>\n",
       "      <th>24727</th>\n",
       "      <td>37412</td>\n",
       "      <td>47962</td>\n",
       "      <td>תחנה מרכזית חדרה/רציפים</td>\n",
       "      <td>רחוב:  עיר: חדרה רציף:   קומה:</td>\n",
       "      <td>32.435961</td>\n",
       "      <td>34.914023</td>\n",
       "      <td>1</td>\n",
       "      <td>NaN</td>\n",
       "      <td>702.0</td>\n",
       "    </tr>\n",
       "  </tbody>\n",
       "</table>\n",
       "</div>"
      ],
      "text/plain": [
       "       stop_id  stop_code                          stop_name  \\\n",
       "3158      3871      43009      מרכזית המפרץ/רציפים בינעירוני   \n",
       "4127      4967      55637           תחנה מרכזית עפולה/רציפים   \n",
       "8451     10758       4170  תחנה מרכזית ירושלים קומה 3/רציפים   \n",
       "9938     12961      21256  תחנה מרכזית תל אביב קומה 6/רציפים   \n",
       "11393    14679      30136           תחנה מרכזית נתניה/רציפים   \n",
       "11871    15437      31100          תחנה מרכזית רחובות/רציפים   \n",
       "13657    17592      50093           תחנה מרכזית נהריה/רציפים   \n",
       "16804    21658      33512            תחנה מרכזית ראשון לציון   \n",
       "20226    26652      13907         תחנה מרכזית באר שבע/רציפים   \n",
       "24727    37412      47962            תחנה מרכזית חדרה/רציפים   \n",
       "\n",
       "                                               stop_desc   stop_lat  \\\n",
       "3158                    רחוב:  עיר: חיפה רציף:   קומה:    32.792893   \n",
       "4127                   רחוב:  עיר: עפולה רציף:   קומה:    32.607821   \n",
       "8451                 רחוב:  עיר: ירושלים רציף:   קומה:    31.789467   \n",
       "9938    רחוב:תמח''ת קומה 6  עיר: תל אביב יפו רציף:   ...  32.055818   \n",
       "11393            רחוב:פינסקר  עיר: נתניה רציף:   קומה:    32.326889   \n",
       "11871   רחוב:קניון עופר רחובות  עיר: רחובות רציף:   ק...  31.893459   \n",
       "13657     רחוב:יאנוש קורצ'אק  עיר: נהריה רציף:   קומה:    33.005504   \n",
       "16804            רחוב:  עיר: ראשון לציון רציף:   קומה:    31.967759   \n",
       "20226                רחוב:  עיר: באר שבע רציף:   קומה:    31.243017   \n",
       "24727                   רחוב:  עיר: חדרה רציף:   קומה:    32.435961   \n",
       "\n",
       "        stop_lon  location_type  parent_station  zone_id  \n",
       "3158   35.034346              1             NaN    310.0  \n",
       "4127   35.292233              1             NaN    601.0  \n",
       "8451   35.203715              1             NaN    110.0  \n",
       "9938   34.779427              1             NaN    210.0  \n",
       "11393  34.858740              1             NaN    231.0  \n",
       "11871  34.807735              1             NaN    223.0  \n",
       "13657  35.097344              1             NaN    331.0  \n",
       "16804  34.785612              1             NaN    210.0  \n",
       "20226  34.796743              1             NaN    410.0  \n",
       "24727  34.914023              1             NaN    702.0  "
      ]
     },
     "execution_count": 4,
     "metadata": {},
     "output_type": "execute_result"
    }
   ],
   "source": [
    "h5_file_path = 'data/gtfs_store.h5'\n",
    "store = pd.HDFStore(h5_file_path)\n",
    "local_zip_path = 'data/sample/gtfs.zip' \n",
    "\n",
    "with zipfile.ZipFile(local_zip_path) as zf:\n",
    "    for fn in zf.namelist():\n",
    "        short = fn.split('.')[0]\n",
    "        if short not in store:\n",
    "            store[short] = pd.read_csv(zf.open(fn))\n",
    "# got this list from running  s.parent_station.value_counts().head(10).index in the loops notebook\n",
    "store.stops[store.stops.stop_id.isin(['26652', '12961', '10758', '21658', '14679', '3871', '17592', '37412',\n",
    "       '4967', '15437'])]"
   ]
  },
  {
   "cell_type": "markdown",
   "metadata": {},
   "source": [
    "# Tidy it up"
   ]
  },
  {
   "cell_type": "code",
   "execution_count": 14,
   "metadata": {},
   "outputs": [],
   "source": [
    "import partridge as ptg\n",
    "\n",
    "#service_ids_by_date = ptg.read_service_ids_by_date(local_zip_path)\n",
    "#service_ids = service_ids_by_date[datetime.date(2017, 12, 21)]\n",
    "\n",
    "feed = ptg.feed(local_zip_path, view={\n",
    "    'trips.txt': {\n",
    "        'route_id': 13429,\n",
    "    },\n",
    "})\n"
   ]
  },
  {
   "cell_type": "code",
   "execution_count": 15,
   "metadata": {},
   "outputs": [],
   "source": [
    "t = feed.trips\n",
    "c = feed.calendar\n",
    "r = feed.routes"
   ]
  },
  {
   "cell_type": "code",
   "execution_count": 20,
   "metadata": {},
   "outputs": [
    {
     "data": {
      "text/plain": [
       "service_id\n",
       "54188891    176\n",
       "54188892    177\n",
       "54188893    176\n",
       "54188894     49\n",
       "54188895     19\n",
       "54188898    168\n",
       "54188899    167\n",
       "dtype: int64"
      ]
     },
     "execution_count": 20,
     "metadata": {},
     "output_type": "execute_result"
    }
   ],
   "source": [
    "t.groupby('service_id').size()"
   ]
  },
  {
   "cell_type": "markdown",
   "metadata": {},
   "source": [
    "## Geo stuff\n",
    "TODO: Top stops, show them on map"
   ]
  },
  {
   "cell_type": "markdown",
   "metadata": {
    "collapsed": true
   },
   "source": [
    "### Buses connecting to a certain stop"
   ]
  },
  {
   "cell_type": "code",
   "execution_count": 43,
   "metadata": {},
   "outputs": [],
   "source": [
    "\n",
    "feed = ptg.feed(local_zip_path, view={\n",
    "    'trips.txt': {\n",
    "        'service_id': service_ids,\n",
    "        'stop_id': ['13089', '13091', '13540'],\n",
    "    },\n",
    "})\n"
   ]
  },
  {
   "cell_type": "code",
   "execution_count": 44,
   "metadata": {},
   "outputs": [
    {
     "data": {
      "text/plain": [
       "27932"
      ]
     },
     "execution_count": 44,
     "metadata": {},
     "output_type": "execute_result"
    }
   ],
   "source": [
    "len(feed.stops)"
   ]
  },
  {
   "cell_type": "code",
   "execution_count": 47,
   "metadata": {},
   "outputs": [
    {
     "data": {
      "text/plain": [
       "zone_id\n",
       "210    3943\n",
       "110    2521\n",
       "310    2239\n",
       "333    1235\n",
       "231    1232\n",
       "501    1019\n",
       "331    1011\n",
       "221    1003\n",
       "332     867\n",
       "233     798\n",
       "702     787\n",
       "321     785\n",
       "223     724\n",
       "222     703\n",
       "502     656\n",
       "801     654\n",
       "410     597\n",
       "601     564\n",
       "232     541\n",
       "322     541\n",
       "431     495\n",
       "131     470\n",
       "433     451\n",
       "421     409\n",
       "121     405\n",
       "701     388\n",
       "802     292\n",
       "602     250\n",
       "422     246\n",
       "234     243\n",
       "901     206\n",
       "334     201\n",
       "423     165\n",
       "432     153\n",
       "135      93\n",
       "123      78\n",
       "902      78\n",
       "122      66\n",
       "903      56\n",
       "133      50\n",
       "434      42\n",
       "134      41\n",
       "dtype: int64"
      ]
     },
     "execution_count": 47,
     "metadata": {},
     "output_type": "execute_result"
    }
   ],
   "source": [
    "feed.stops.groupby('zone_id').size().sort_values(ascending=False)"
   ]
  },
  {
   "cell_type": "code",
   "execution_count": 23,
   "metadata": {},
   "outputs": [
    {
     "data": {
      "text/html": [
       "<div>\n",
       "<style>\n",
       "    .dataframe thead tr:only-child th {\n",
       "        text-align: right;\n",
       "    }\n",
       "\n",
       "    .dataframe thead th {\n",
       "        text-align: left;\n",
       "    }\n",
       "\n",
       "    .dataframe tbody tr th {\n",
       "        vertical-align: top;\n",
       "    }\n",
       "</style>\n",
       "<table border=\"1\" class=\"dataframe\">\n",
       "  <thead>\n",
       "    <tr style=\"text-align: right;\">\n",
       "      <th></th>\n",
       "      <th>stop_id</th>\n",
       "      <th>stop_code</th>\n",
       "      <th>stop_name</th>\n",
       "      <th>stop_desc</th>\n",
       "      <th>stop_lat</th>\n",
       "      <th>stop_lon</th>\n",
       "      <th>location_type</th>\n",
       "      <th>parent_station</th>\n",
       "      <th>zone_id</th>\n",
       "    </tr>\n",
       "  </thead>\n",
       "  <tbody>\n",
       "    <tr>\n",
       "      <th>10033</th>\n",
       "      <td>13089</td>\n",
       "      <td>21451</td>\n",
       "      <td>מגדל שלום/אחד העם</td>\n",
       "      <td>רחוב:אחד העם 22 עיר: תל אביב יפו רציף:   קומה:</td>\n",
       "      <td>32.063639</td>\n",
       "      <td>34.770359</td>\n",
       "      <td>0</td>\n",
       "      <td>NaN</td>\n",
       "      <td>210</td>\n",
       "    </tr>\n",
       "    <tr>\n",
       "      <th>10035</th>\n",
       "      <td>13091</td>\n",
       "      <td>21453</td>\n",
       "      <td>מגדל שלום/הרצל</td>\n",
       "      <td>רחוב:חנה ומרדכי ויסר  עיר: תל אביב יפו רציף:  ...</td>\n",
       "      <td>32.064027</td>\n",
       "      <td>34.769804</td>\n",
       "      <td>0</td>\n",
       "      <td>NaN</td>\n",
       "      <td>210</td>\n",
       "    </tr>\n",
       "    <tr>\n",
       "      <th>10424</th>\n",
       "      <td>13540</td>\n",
       "      <td>25485</td>\n",
       "      <td>מגדל שלום/מונטיפיורי</td>\n",
       "      <td>רחוב:מונטיפיורי 1 עיר: תל אביב יפו רציף:   קומה:</td>\n",
       "      <td>32.064693</td>\n",
       "      <td>34.769228</td>\n",
       "      <td>0</td>\n",
       "      <td>NaN</td>\n",
       "      <td>210</td>\n",
       "    </tr>\n",
       "  </tbody>\n",
       "</table>\n",
       "</div>"
      ],
      "text/plain": [
       "      stop_id stop_code             stop_name  \\\n",
       "10033   13089     21451     מגדל שלום/אחד העם   \n",
       "10035   13091     21453        מגדל שלום/הרצל   \n",
       "10424   13540     25485  מגדל שלום/מונטיפיורי   \n",
       "\n",
       "                                               stop_desc   stop_lat  \\\n",
       "10033     רחוב:אחד העם 22 עיר: תל אביב יפו רציף:   קומה:  32.063639   \n",
       "10035  רחוב:חנה ומרדכי ויסר  עיר: תל אביב יפו רציף:  ...  32.064027   \n",
       "10424   רחוב:מונטיפיורי 1 עיר: תל אביב יפו רציף:   קומה:  32.064693   \n",
       "\n",
       "        stop_lon  location_type parent_station zone_id  \n",
       "10033  34.770359              0            NaN     210  \n",
       "10035  34.769804              0            NaN     210  \n",
       "10424  34.769228              0            NaN     210  "
      ]
     },
     "execution_count": 23,
     "metadata": {},
     "output_type": "execute_result"
    }
   ],
   "source": [
    "feed.stops[feed.stops.stop_name.str.startswith('מגדל שלום')]"
   ]
  },
  {
   "cell_type": "code",
   "execution_count": null,
   "metadata": {
    "collapsed": true
   },
   "outputs": [],
   "source": [
    "f = feed.stop_times\n",
    "trip_ids = f[f.stop_id.isin(['13089', '13091', '13540'])].trip_id.unique()\n",
    "route_ids = feed.trips[feed.trips.trip_id.isin(trip_ids)].route_id.unique()\n",
    "route_names = feed.routes[feed.routes.route_id.isin(route_ids)].route_short_name.unique()\n",
    "stop_ids = feed.stop_times[feed.stop_times.trip_id.isin(trip_ids)].stop_id\n",
    "stop_counts = stop_ids.value_counts()"
   ]
  },
  {
   "cell_type": "code",
   "execution_count": 82,
   "metadata": {
    "collapsed": true
   },
   "outputs": [],
   "source": [
    "stops = feed.stops[feed.stops.stop_id.isin(stop_ids.unique())].set_index('stop_id')"
   ]
  },
  {
   "cell_type": "code",
   "execution_count": 65,
   "metadata": {},
   "outputs": [
    {
     "data": {
      "text/plain": [
       "array(['220', '161', '389', '24', '61', '22', '14', '18', '82', '100',\n",
       "       '150', '38', '138', '23', '249', '149', '147', '47', '48', '168',\n",
       "       '282', '218', '121'], dtype=object)"
      ]
     },
     "execution_count": 65,
     "metadata": {},
     "output_type": "execute_result"
    }
   ],
   "source": [
    "route_names"
   ]
  },
  {
   "cell_type": "code",
   "execution_count": 103,
   "metadata": {},
   "outputs": [
    {
     "data": {
      "text/plain": [
       "13089    877\n",
       "13115    781\n",
       "13540    758\n",
       "13481    691\n",
       "13141    669\n",
       "Name: stop_id, dtype: int64"
      ]
     },
     "execution_count": 103,
     "metadata": {},
     "output_type": "execute_result"
    }
   ],
   "source": [
    "stop_counts.head()"
   ]
  },
  {
   "cell_type": "code",
   "execution_count": 99,
   "metadata": {
    "collapsed": true
   },
   "outputs": [],
   "source": [
    "stops = pd.concat((stops, stop_counts), axis=1)"
   ]
  },
  {
   "cell_type": "code",
   "execution_count": 109,
   "metadata": {
    "collapsed": true
   },
   "outputs": [],
   "source": [
    "['13089', '13091', '13540']\n",
    "stops.loc['13089','zone_id'] = 0\n",
    "stops.loc['13091','zone_id'] = 0\n",
    "stops.loc['13540','zone_id'] = 0"
   ]
  },
  {
   "cell_type": "code",
   "execution_count": 110,
   "metadata": {},
   "outputs": [
    {
     "data": {
      "text/plain": [
       "<matplotlib.text.Text at 0x24567e409e8>"
      ]
     },
     "execution_count": 110,
     "metadata": {},
     "output_type": "execute_result"
    },
    {
     "data": {
      "image/png": "[encoded data removed]",
      "text/plain": [
       "<matplotlib.figure.Figure at 0x2456701ae80>"
      ]
     },
     "metadata": {},
     "output_type": "display_data"
    }
   ],
   "source": [
    "# change zone for the Shalom Tower stations\n",
    "# Create scatterplot of dataframe\n",
    "sns.lmplot('stop_lon', # Horizontal axis\n",
    "           'stop_lat', # Vertical axis\n",
    "           data=stops, # Data source\n",
    "           fit_reg=False, # Don't fix a regression line\n",
    "           hue=\"zone_id\", # Set color\n",
    "           scatter_kws={\"marker\": \"D\", # Set marker style\n",
    "                        \"s\": 100}) # S marker size\n",
    "\n",
    "# Set title\n",
    "plt.title('Stations that connect to/from Shalom Tower')\n",
    "\n",
    "# Set x-axis label\n",
    "plt.xlabel('lon')\n",
    "\n",
    "# Set y-axis label\n",
    "plt.ylabel('lat')"
   ]
  },
  {
   "cell_type": "code",
   "execution_count": null,
   "metadata": {
    "collapsed": true
   },
   "outputs": [],
   "source": []
  },
  {
   "cell_type": "code",
   "execution_count": null,
   "metadata": {
    "collapsed": true
   },
   "outputs": [],
   "source": []
  },
  {
   "cell_type": "code",
   "execution_count": null,
   "metadata": {
    "collapsed": true
   },
   "outputs": [],
   "source": []
  },
  {
   "cell_type": "code",
   "execution_count": null,
   "metadata": {
    "collapsed": true
   },
   "outputs": [],
   "source": []
  },
  {
   "cell_type": "code",
   "execution_count": null,
   "metadata": {
    "collapsed": true
   },
   "outputs": [],
   "source": []
  },
  {
   "cell_type": "code",
   "execution_count": null,
   "metadata": {
    "collapsed": true
   },
   "outputs": [],
   "source": []
  },
  {
   "cell_type": "code",
   "execution_count": null,
   "metadata": {
    "collapsed": true
   },
   "outputs": [],
   "source": []
  },
  {
   "cell_type": "code",
   "execution_count": null,
   "metadata": {
    "collapsed": true
   },
   "outputs": [],
   "source": []
  },
  {
   "cell_type": "code",
   "execution_count": null,
   "metadata": {
    "collapsed": true
   },
   "outputs": [],
   "source": []
  },
  {
   "cell_type": "code",
   "execution_count": null,
   "metadata": {
    "collapsed": true
   },
   "outputs": [],
   "source": []
  },
  {
   "cell_type": "code",
   "execution_count": null,
   "metadata": {
    "collapsed": true
   },
   "outputs": [],
   "source": []
  },
  {
   "cell_type": "code",
   "execution_count": null,
   "metadata": {
    "collapsed": true
   },
   "outputs": [],
   "source": []
  },
  {
   "cell_type": "code",
   "execution_count": null,
   "metadata": {
    "collapsed": true
   },
   "outputs": [],
   "source": []
  }
 ],
 "metadata": {
  "kernelspec": {
   "display_name": "Python 3",
   "language": "python",
   "name": "python3"
  },
  "language_info": {
   "codemirror_mode": {
    "name": "ipython",
    "version": 3
   },
   "file_extension": ".py",
   "mimetype": "text/x-python",
   "name": "python",
   "nbconvert_exporter": "python",
   "pygments_lexer": "ipython3",
   "version": "3.6.3"
  }
 },
 "nbformat": 4,
 "nbformat_minor": 2
}
